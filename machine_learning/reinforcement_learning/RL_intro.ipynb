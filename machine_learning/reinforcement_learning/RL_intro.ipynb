{
 "cells": [
  {
   "cell_type": "markdown",
   "id": "bf712923",
   "metadata": {},
   "source": [
    "# Reinforcement Learning (RL)"
   ]
  },
  {
   "cell_type": "markdown",
   "id": "fb09aeee",
   "metadata": {},
   "source": [
    "### What is RL?\n",
    "Reinforcement Learning is a type of machine learning where an agent learns by interacting with an environment, making decisions, and getting rewards or penalties as feedback.\n",
    "\n",
    "The goal = learn the best strategy (policy) to maximize total rewards."
   ]
  },
  {
   "cell_type": "markdown",
   "id": "3a25e907",
   "metadata": {},
   "source": [
    "### How it Works\n",
    "- Agent observes the current state.\n",
    "\n",
    "- Agent chooses an action.\n",
    "\n",
    "- Environment responds → gives a new state and a reward.\n",
    "\n",
    "- Agent updates its knowledge.\n",
    "\n",
    "- Repeat many times → agent learns the best way to act."
   ]
  },
  {
   "cell_type": "markdown",
   "id": "c5f9291d",
   "metadata": {},
   "source": [
    "##### Real-Time Example\n",
    "Dog Training:\n",
    "\n",
    "- State = dog is standing.\n",
    "\n",
    "- Action = “Sit”.\n",
    "\n",
    "- Reward = gets a treat 🍖.\n",
    "\n",
    "- Over time → dog learns to sit when commanded."
   ]
  },
  {
   "cell_type": "markdown",
   "id": "4e07afb3",
   "metadata": {},
   "source": [
    "### Real-World Use Cases\n",
    "- Games → AlphaGo, Chess AI, self-learning bots.\n",
    "\n",
    "- Robotics & Self-driving cars → learn to navigate roads.\n",
    "\n",
    "- Finance → trading bots learning strategies.\n",
    "\n",
    "- Healthcare → personalized treatment strategies."
   ]
  },
  {
   "cell_type": "markdown",
   "id": "9cd215da",
   "metadata": {},
   "source": [
    "##### Popular Algorithms in RL\n",
    "- Dynamic Programming (DP): Uses Bellman equations, works only when environment is known.\n",
    "\n",
    "- Monte Carlo Methods: Learn from many episodes by averaging rewards.\n",
    "\n",
    "- Temporal Difference (TD): Learn step by step (mix of DP + Monte Carlo).\n",
    "\n",
    "- Q-Learning: Learns a table of best actions for each state.\n",
    "\n",
    "- SARSA: Similar to Q-learning but updates using the action actually taken.\n",
    "\n",
    "- Deep Q-Networks (DQN): Uses neural networks instead of tables (good for complex environments like games).\n",
    "\n",
    "- Policy Gradient Methods: Learn policies directly instead of Q-values.\n",
    "\n",
    "- Actor-Critic: Combines value-based + policy-based approaches for faster learning."
   ]
  },
  {
   "cell_type": "markdown",
   "id": "ad32ead4",
   "metadata": {},
   "source": []
  }
 ],
 "metadata": {
  "language_info": {
   "name": "python"
  }
 },
 "nbformat": 4,
 "nbformat_minor": 5
}
