{
 "cells": [
  {
   "cell_type": "markdown",
   "id": "4942e5c0",
   "metadata": {},
   "source": [
    "### What are Hyperparameters?\n",
    "\n",
    "Parameters = learned from data (e.g., coefficients in Linear Regression, weights in Neural Networks).\n",
    "\n",
    "Hyperparameters = set before training, they control how the model learns."
   ]
  },
  {
   "cell_type": "markdown",
   "id": "f3dba136",
   "metadata": {},
   "source": [
    "Example:\n",
    "\n",
    "In KNN, k (number of neighbors) is a hyperparameter.\n",
    "\n",
    "In Decision Trees, max_depth and min_samples_split are hyperparameters.\n",
    "\n",
    "In SVM, C (margin flexibility) and kernel are hyperparameters."
   ]
  },
  {
   "cell_type": "markdown",
   "id": "5dd24213",
   "metadata": {},
   "source": [
    "### Why Tune Hyperparameters?\n",
    "Default values may not give the best performance.\n",
    "\n",
    "Right hyperparameters = better accuracy, less overfitting, better generalization."
   ]
  },
  {
   "cell_type": "code",
   "execution_count": 1,
   "id": "388446cb",
   "metadata": {},
   "outputs": [],
   "source": [
    "from sklearn.tree import DecisionTreeClassifier"
   ]
  },
  {
   "cell_type": "markdown",
   "id": "4746bbad",
   "metadata": {},
   "source": [
    "#### Manual tuning\n",
    "\n",
    "Instead of blindly using GridSearch, let’s try values manually and compare results.\n",
    "\n",
    "```py\n",
    "for depth in [1, 2, 3, 5, 10, None]:\n",
    "    model = DecisionTreeClassifier(max_depth=depth, random_state=42)\n",
    "    model.fit(X_train, y_train)\n",
    "    y_pred = model.predict(X_test)\n",
    "    print(f\"max_depth={depth}, Accuracy={accuracy_score(y_test, y_pred):.2f}\")\n",
    "```"
   ]
  },
  {
   "cell_type": "markdown",
   "id": "f8faa112",
   "metadata": {},
   "source": [
    "#### Methods in hyperparameter tuning\n",
    "- Manual tuning\n",
    "- GridSearchCV\n",
    "- RandomizedSearchCV\n",
    "- Bayesian optimization"
   ]
  },
  {
   "cell_type": "markdown",
   "id": "04d0ec2b",
   "metadata": {},
   "source": [
    "## Grid Search (GridSearchCV)\n",
    "What: Tries all possible combinations of hyperparameters in a grid.\n",
    "Good for: Small search space, when you want the exact best parameters.\n",
    "Bad for: Large datasets, many parameters → very slow.\n",
    "\n",
    "Example:\n",
    "If testing max_depth=[3,5,7] and min_samples_split=[2,5] → total = 3 × 2 = 6 models trained.\n",
    "- first model -> max_depth = 3 and min_samples_split=2 \n",
    "- Second model -> max_depth = 3 and min_samples_split=5 \n",
    "- Third model -> max_depth = 5 and min_samples_split=2 \n",
    "- Fourth model -> max_depth = 5 and min_samples_split=5 \n",
    "- Fivth model -> max_depth = 7 and min_samples_split=2 \n",
    "- Sixth model -> max_depth = 7 and min_samples_split=5 "
   ]
  },
  {
   "cell_type": "code",
   "execution_count": 2,
   "id": "b8825a9a",
   "metadata": {},
   "outputs": [
    {
     "data": {
      "text/html": [
       "<div>\n",
       "<style scoped>\n",
       "    .dataframe tbody tr th:only-of-type {\n",
       "        vertical-align: middle;\n",
       "    }\n",
       "\n",
       "    .dataframe tbody tr th {\n",
       "        vertical-align: top;\n",
       "    }\n",
       "\n",
       "    .dataframe thead th {\n",
       "        text-align: right;\n",
       "    }\n",
       "</style>\n",
       "<table border=\"1\" class=\"dataframe\">\n",
       "  <thead>\n",
       "    <tr style=\"text-align: right;\">\n",
       "      <th></th>\n",
       "      <th>Age</th>\n",
       "      <th>Income_LPA</th>\n",
       "      <th>Buys_House</th>\n",
       "    </tr>\n",
       "  </thead>\n",
       "  <tbody>\n",
       "    <tr>\n",
       "      <th>0</th>\n",
       "      <td>22</td>\n",
       "      <td>8</td>\n",
       "      <td>0</td>\n",
       "    </tr>\n",
       "    <tr>\n",
       "      <th>1</th>\n",
       "      <td>25</td>\n",
       "      <td>10</td>\n",
       "      <td>0</td>\n",
       "    </tr>\n",
       "    <tr>\n",
       "      <th>2</th>\n",
       "      <td>30</td>\n",
       "      <td>15</td>\n",
       "      <td>0</td>\n",
       "    </tr>\n",
       "    <tr>\n",
       "      <th>3</th>\n",
       "      <td>35</td>\n",
       "      <td>12</td>\n",
       "      <td>1</td>\n",
       "    </tr>\n",
       "    <tr>\n",
       "      <th>4</th>\n",
       "      <td>40</td>\n",
       "      <td>25</td>\n",
       "      <td>1</td>\n",
       "    </tr>\n",
       "    <tr>\n",
       "      <th>5</th>\n",
       "      <td>50</td>\n",
       "      <td>20</td>\n",
       "      <td>0</td>\n",
       "    </tr>\n",
       "    <tr>\n",
       "      <th>6</th>\n",
       "      <td>55</td>\n",
       "      <td>35</td>\n",
       "      <td>1</td>\n",
       "    </tr>\n",
       "  </tbody>\n",
       "</table>\n",
       "</div>"
      ],
      "text/plain": [
       "   Age  Income_LPA  Buys_House\n",
       "0   22           8           0\n",
       "1   25          10           0\n",
       "2   30          15           0\n",
       "3   35          12           1\n",
       "4   40          25           1\n",
       "5   50          20           0\n",
       "6   55          35           1"
      ]
     },
     "execution_count": 2,
     "metadata": {},
     "output_type": "execute_result"
    }
   ],
   "source": [
    "import pandas as pd\n",
    "data = {\n",
    "    \"Age\": [22, 25, 30, 35, 40, 50, 55],\n",
    "    \"Income_LPA\": [8, 10, 15, 12, 25, 20, 35],\n",
    "    \"Buys_House\": [0, 0, 0, 1, 1, 0, 1]  # 0 = No, 1 = Yes\n",
    "}\n",
    "\n",
    "df = pd.DataFrame(data)\n",
    "df"
   ]
  },
  {
   "cell_type": "code",
   "execution_count": 3,
   "id": "58d0a78d",
   "metadata": {},
   "outputs": [],
   "source": [
    "from sklearn.model_selection import train_test_split\n",
    "X = df[[\"Age\", \"Income_LPA\"]]\n",
    "y = df[\"Buys_House\"]\n",
    "X_train, X_test, y_train, y_test = train_test_split(X, y, test_size=0.2, random_state=42)"
   ]
  },
  {
   "cell_type": "code",
   "execution_count": 10,
   "id": "a0f5e388",
   "metadata": {},
   "outputs": [
    {
     "name": "stderr",
     "output_type": "stream",
     "text": [
      "d:\\A Code\\ML-Playground\\.venv\\Lib\\site-packages\\sklearn\\model_selection\\_split.py:811: UserWarning: The least populated class in y has only 2 members, which is less than n_splits=3.\n",
      "  warnings.warn(\n"
     ]
    },
    {
     "name": "stdout",
     "output_type": "stream",
     "text": [
      "Best Params (GridSearch): {'max_depth': 1, 'min_samples_split': 2, 'random_state': 42}\n",
      "Best Score (GridSearch): 0.6666666666666666\n"
     ]
    }
   ],
   "source": [
    "from sklearn.model_selection import GridSearchCV\n",
    "from sklearn.tree import DecisionTreeClassifier\n",
    "\n",
    "param_grid = {\n",
    "    \"max_depth\": [1, 2, 3, None],\n",
    "    \"min_samples_split\": [2, 3, 4],\n",
    "    \"random_state\": [42,100]\n",
    "}\n",
    "\n",
    "# GridSearch\n",
    "grid = GridSearchCV(DecisionTreeClassifier(), param_grid, cv=3)\n",
    "grid.fit(X_train, y_train)\n",
    "\n",
    "print(\"Best Params (GridSearch):\", grid.best_params_)\n",
    "print(\"Best Score (GridSearch):\", grid.best_score_)"
   ]
  },
  {
   "cell_type": "markdown",
   "id": "3ede4e9c",
   "metadata": {},
   "source": [
    "## Random Search (RandomizedSearchCV)\n",
    "- What: Instead of trying all combinations, it tries random subsets.\n",
    "\n",
    "- Good for: Large search spaces, faster than GridSearch.\n",
    "\n",
    "- Bad for: Might miss the exact best combo (but usually finds “good enough”)."
   ]
  },
  {
   "cell_type": "code",
   "execution_count": 19,
   "id": "52871555",
   "metadata": {},
   "outputs": [
    {
     "name": "stdout",
     "output_type": "stream",
     "text": [
      "Best Params (RandomSearch): {'min_samples_split': 2, 'max_depth': 1}\n",
      "Best Score (RandomSearch): 0.6666666666666666\n"
     ]
    },
    {
     "name": "stderr",
     "output_type": "stream",
     "text": [
      "d:\\A Code\\ML-Playground\\.venv\\Lib\\site-packages\\sklearn\\model_selection\\_split.py:811: UserWarning: The least populated class in y has only 2 members, which is less than n_splits=3.\n",
      "  warnings.warn(\n"
     ]
    }
   ],
   "source": [
    "from sklearn.model_selection import RandomizedSearchCV\n",
    "\n",
    "param_dist = {\n",
    "    \"max_depth\": [1, 2, 3, None],\n",
    "    \"min_samples_split\": [2, 3, 4, 5, 6]\n",
    "}\n",
    "\n",
    "random_search = RandomizedSearchCV(\n",
    "    DecisionTreeClassifier(random_state=42),\n",
    "    param_distributions=param_dist,\n",
    "    n_iter=5,   # number of random combinations to try\n",
    "    cv=3,\n",
    "    random_state=42\n",
    ")\n",
    "\n",
    "random_search.fit(X_train, y_train)\n",
    "\n",
    "print(\"Best Params (RandomSearch):\", random_search.best_params_)\n",
    "print(\"Best Score (RandomSearch):\", random_search.best_score_)\n"
   ]
  },
  {
   "cell_type": "markdown",
   "id": "3ccf9608",
   "metadata": {},
   "source": [
    "## Bayesian Optimization\n",
    "- What: Uses probability to guess which hyperparameter region will perform best, and searches there.\n",
    "\n",
    "- Good for: Expensive models (like deep learning), fewer trials needed.\n",
    "\n",
    "- Bad for: More complex to implement (libraries like scikit-optimize, optuna)."
   ]
  },
  {
   "cell_type": "code",
   "execution_count": 17,
   "id": "754f1386",
   "metadata": {},
   "outputs": [
    {
     "name": "stderr",
     "output_type": "stream",
     "text": [
      "d:\\A Code\\ML-Playground\\.venv\\Lib\\site-packages\\tqdm\\auto.py:21: TqdmWarning: IProgress not found. Please update jupyter and ipywidgets. See https://ipywidgets.readthedocs.io/en/stable/user_install.html\n",
      "  from .autonotebook import tqdm as notebook_tqdm\n",
      "[I 2025-08-30 20:50:34,748] A new study created in memory with name: no-name-519b2551-8dc4-4104-be0f-b042fb92e1ac\n",
      "[I 2025-08-30 20:50:34,756] Trial 0 finished with value: 0.0 and parameters: {'max_depth': None, 'min_samples_split': 6}. Best is trial 0 with value: 0.0.\n",
      "[I 2025-08-30 20:50:34,762] Trial 1 finished with value: 1.0 and parameters: {'max_depth': 1, 'min_samples_split': 5}. Best is trial 1 with value: 1.0.\n",
      "[I 2025-08-30 20:50:34,769] Trial 2 finished with value: 0.0 and parameters: {'max_depth': 3, 'min_samples_split': 3}. Best is trial 1 with value: 1.0.\n",
      "[I 2025-08-30 20:50:34,775] Trial 3 finished with value: 0.0 and parameters: {'max_depth': None, 'min_samples_split': 3}. Best is trial 1 with value: 1.0.\n",
      "[I 2025-08-30 20:50:34,782] Trial 4 finished with value: 1.0 and parameters: {'max_depth': None, 'min_samples_split': 4}. Best is trial 1 with value: 1.0.\n",
      "[I 2025-08-30 20:50:34,788] Trial 5 finished with value: 1.0 and parameters: {'max_depth': 3, 'min_samples_split': 4}. Best is trial 1 with value: 1.0.\n",
      "[I 2025-08-30 20:50:34,796] Trial 6 finished with value: 1.0 and parameters: {'max_depth': 1, 'min_samples_split': 5}. Best is trial 1 with value: 1.0.\n",
      "[I 2025-08-30 20:50:34,801] Trial 7 finished with value: 0.0 and parameters: {'max_depth': 2, 'min_samples_split': 3}. Best is trial 1 with value: 1.0.\n",
      "[I 2025-08-30 20:50:34,809] Trial 8 finished with value: 0.0 and parameters: {'max_depth': 2, 'min_samples_split': 3}. Best is trial 1 with value: 1.0.\n",
      "[I 2025-08-30 20:50:34,816] Trial 9 finished with value: 0.0 and parameters: {'max_depth': None, 'min_samples_split': 3}. Best is trial 1 with value: 1.0.\n"
     ]
    },
    {
     "name": "stdout",
     "output_type": "stream",
     "text": [
      "Best Params (Bayesian): {'max_depth': 1, 'min_samples_split': 5}\n",
      "Best Score (Bayesian): 1.0\n"
     ]
    }
   ],
   "source": [
    "import optuna\n",
    "from sklearn.metrics import accuracy_score\n",
    "\n",
    "def objective(trial):\n",
    "    max_depth = trial.suggest_categorical(\"max_depth\", [1, 2, 3, None])\n",
    "    min_samples_split = trial.suggest_int(\"min_samples_split\", 2, 6)\n",
    "\n",
    "    model = DecisionTreeClassifier(\n",
    "        max_depth=max_depth,\n",
    "        min_samples_split=min_samples_split,\n",
    "        random_state=42\n",
    "    )\n",
    "    model.fit(X_train, y_train)\n",
    "    y_pred = model.predict(X_test)\n",
    "    return accuracy_score(y_test, y_pred)\n",
    "\n",
    "# Run Bayesian Optimization\n",
    "study = optuna.create_study(direction=\"maximize\")\n",
    "study.optimize(objective, n_trials=10)\n",
    "\n",
    "print(\"Best Params (Bayesian):\", study.best_params)\n",
    "print(\"Best Score (Bayesian):\", study.best_value)\n"
   ]
  },
  {
   "cell_type": "code",
   "execution_count": 16,
   "id": "39f6b11f",
   "metadata": {},
   "outputs": [
    {
     "name": "stdout",
     "output_type": "stream",
     "text": [
      "Collecting optuna\n",
      "  Downloading optuna-4.5.0-py3-none-any.whl.metadata (17 kB)\n",
      "Collecting alembic>=1.5.0 (from optuna)\n",
      "  Downloading alembic-1.16.5-py3-none-any.whl.metadata (7.3 kB)\n",
      "Collecting colorlog (from optuna)\n",
      "  Downloading colorlog-6.9.0-py3-none-any.whl.metadata (10 kB)\n",
      "Requirement already satisfied: numpy in d:\\a code\\ml-playground\\.venv\\lib\\site-packages (from optuna) (2.3.2)\n",
      "Requirement already satisfied: packaging>=20.0 in d:\\a code\\ml-playground\\.venv\\lib\\site-packages (from optuna) (25.0)\n",
      "Collecting sqlalchemy>=1.4.2 (from optuna)\n",
      "  Downloading sqlalchemy-2.0.43-cp312-cp312-win_amd64.whl.metadata (9.8 kB)\n",
      "Requirement already satisfied: tqdm in d:\\a code\\ml-playground\\.venv\\lib\\site-packages (from optuna) (4.67.1)\n",
      "Collecting PyYAML (from optuna)\n",
      "  Using cached PyYAML-6.0.2-cp312-cp312-win_amd64.whl.metadata (2.1 kB)\n",
      "Collecting Mako (from alembic>=1.5.0->optuna)\n",
      "  Downloading mako-1.3.10-py3-none-any.whl.metadata (2.9 kB)\n",
      "Collecting typing-extensions>=4.12 (from alembic>=1.5.0->optuna)\n",
      "  Downloading typing_extensions-4.15.0-py3-none-any.whl.metadata (3.3 kB)\n",
      "Collecting greenlet>=1 (from sqlalchemy>=1.4.2->optuna)\n",
      "  Downloading greenlet-3.2.4-cp312-cp312-win_amd64.whl.metadata (4.2 kB)\n",
      "Requirement already satisfied: colorama in d:\\a code\\ml-playground\\.venv\\lib\\site-packages (from colorlog->optuna) (0.4.6)\n",
      "Collecting MarkupSafe>=0.9.2 (from Mako->alembic>=1.5.0->optuna)\n",
      "  Using cached MarkupSafe-3.0.2-cp312-cp312-win_amd64.whl.metadata (4.1 kB)\n",
      "Downloading optuna-4.5.0-py3-none-any.whl (400 kB)\n",
      "Downloading alembic-1.16.5-py3-none-any.whl (247 kB)\n",
      "Downloading sqlalchemy-2.0.43-cp312-cp312-win_amd64.whl (2.1 MB)\n",
      "   ---------------------------------------- 0.0/2.1 MB ? eta -:--:--\n",
      "   --------- ------------------------------ 0.5/2.1 MB 3.4 MB/s eta 0:00:01\n",
      "   ------------------- -------------------- 1.0/2.1 MB 3.1 MB/s eta 0:00:01\n",
      "   ---------------------------------- ----- 1.8/2.1 MB 3.1 MB/s eta 0:00:01\n",
      "   ---------------------------------------- 2.1/2.1 MB 3.1 MB/s  0:00:00\n",
      "Downloading greenlet-3.2.4-cp312-cp312-win_amd64.whl (299 kB)\n",
      "Downloading typing_extensions-4.15.0-py3-none-any.whl (44 kB)\n",
      "Downloading colorlog-6.9.0-py3-none-any.whl (11 kB)\n",
      "Downloading mako-1.3.10-py3-none-any.whl (78 kB)\n",
      "Using cached MarkupSafe-3.0.2-cp312-cp312-win_amd64.whl (15 kB)\n",
      "Using cached PyYAML-6.0.2-cp312-cp312-win_amd64.whl (156 kB)\n",
      "Installing collected packages: typing-extensions, PyYAML, MarkupSafe, greenlet, colorlog, sqlalchemy, Mako, alembic, optuna\n",
      "\n",
      "   ---- ----------------------------------- 1/9 [PyYAML]\n",
      "   ---- ----------------------------------- 1/9 [PyYAML]\n",
      "   ---- ----------------------------------- 1/9 [PyYAML]\n",
      "   ------------- -------------------------- 3/9 [greenlet]\n",
      "   ------------- -------------------------- 3/9 [greenlet]\n",
      "   ------------- -------------------------- 3/9 [greenlet]\n",
      "   ------------- -------------------------- 3/9 [greenlet]\n",
      "   ---------------------- ----------------- 5/9 [sqlalchemy]\n",
      "   ---------------------- ----------------- 5/9 [sqlalchemy]\n",
      "   ---------------------- ----------------- 5/9 [sqlalchemy]\n",
      "   ---------------------- ----------------- 5/9 [sqlalchemy]\n",
      "   ---------------------- ----------------- 5/9 [sqlalchemy]\n",
      "   ---------------------- ----------------- 5/9 [sqlalchemy]\n",
      "   ---------------------- ----------------- 5/9 [sqlalchemy]\n",
      "   ---------------------- ----------------- 5/9 [sqlalchemy]\n",
      "   ---------------------- ----------------- 5/9 [sqlalchemy]\n",
      "   ---------------------- ----------------- 5/9 [sqlalchemy]\n",
      "   ---------------------- ----------------- 5/9 [sqlalchemy]\n",
      "   ---------------------- ----------------- 5/9 [sqlalchemy]\n",
      "   ---------------------- ----------------- 5/9 [sqlalchemy]\n",
      "   ---------------------- ----------------- 5/9 [sqlalchemy]\n",
      "   ---------------------- ----------------- 5/9 [sqlalchemy]\n",
      "   ---------------------- ----------------- 5/9 [sqlalchemy]\n",
      "   ---------------------- ----------------- 5/9 [sqlalchemy]\n",
      "   ---------------------- ----------------- 5/9 [sqlalchemy]\n",
      "   ---------------------- ----------------- 5/9 [sqlalchemy]\n",
      "   ---------------------- ----------------- 5/9 [sqlalchemy]\n",
      "   ---------------------- ----------------- 5/9 [sqlalchemy]\n",
      "   ---------------------- ----------------- 5/9 [sqlalchemy]\n",
      "   ---------------------- ----------------- 5/9 [sqlalchemy]\n",
      "   ---------------------- ----------------- 5/9 [sqlalchemy]\n",
      "   ---------------------- ----------------- 5/9 [sqlalchemy]\n",
      "   ---------------------- ----------------- 5/9 [sqlalchemy]\n",
      "   ---------------------- ----------------- 5/9 [sqlalchemy]\n",
      "   ---------------------- ----------------- 5/9 [sqlalchemy]\n",
      "   ---------------------- ----------------- 5/9 [sqlalchemy]\n",
      "   ---------------------- ----------------- 5/9 [sqlalchemy]\n",
      "   ---------------------- ----------------- 5/9 [sqlalchemy]\n",
      "   ---------------------- ----------------- 5/9 [sqlalchemy]\n",
      "   ---------------------- ----------------- 5/9 [sqlalchemy]\n",
      "   ---------------------- ----------------- 5/9 [sqlalchemy]\n",
      "   ---------------------- ----------------- 5/9 [sqlalchemy]\n",
      "   ---------------------- ----------------- 5/9 [sqlalchemy]\n",
      "   ---------------------- ----------------- 5/9 [sqlalchemy]\n",
      "   ---------------------- ----------------- 5/9 [sqlalchemy]\n",
      "   ---------------------- ----------------- 5/9 [sqlalchemy]\n",
      "   ---------------------- ----------------- 5/9 [sqlalchemy]\n",
      "   ---------------------- ----------------- 5/9 [sqlalchemy]\n",
      "   ---------------------- ----------------- 5/9 [sqlalchemy]\n",
      "   ---------------------- ----------------- 5/9 [sqlalchemy]\n",
      "   ---------------------- ----------------- 5/9 [sqlalchemy]\n",
      "   ---------------------- ----------------- 5/9 [sqlalchemy]\n",
      "   ---------------------- ----------------- 5/9 [sqlalchemy]\n",
      "   -------------------------- ------------- 6/9 [Mako]\n",
      "   -------------------------- ------------- 6/9 [Mako]\n",
      "   -------------------------- ------------- 6/9 [Mako]\n",
      "   -------------------------- ------------- 6/9 [Mako]\n",
      "   -------------------------- ------------- 6/9 [Mako]\n",
      "   ------------------------------- -------- 7/9 [alembic]\n",
      "   ------------------------------- -------- 7/9 [alembic]\n",
      "   ------------------------------- -------- 7/9 [alembic]\n",
      "   ------------------------------- -------- 7/9 [alembic]\n",
      "   ------------------------------- -------- 7/9 [alembic]\n",
      "   ------------------------------- -------- 7/9 [alembic]\n",
      "   ------------------------------- -------- 7/9 [alembic]\n",
      "   ------------------------------- -------- 7/9 [alembic]\n",
      "   ------------------------------- -------- 7/9 [alembic]\n",
      "   ------------------------------- -------- 7/9 [alembic]\n",
      "   ----------------------------------- ---- 8/9 [optuna]\n",
      "   ----------------------------------- ---- 8/9 [optuna]\n",
      "   ----------------------------------- ---- 8/9 [optuna]\n",
      "   ----------------------------------- ---- 8/9 [optuna]\n",
      "   ----------------------------------- ---- 8/9 [optuna]\n",
      "   ----------------------------------- ---- 8/9 [optuna]\n",
      "   ----------------------------------- ---- 8/9 [optuna]\n",
      "   ----------------------------------- ---- 8/9 [optuna]\n",
      "   ----------------------------------- ---- 8/9 [optuna]\n",
      "   ----------------------------------- ---- 8/9 [optuna]\n",
      "   ----------------------------------- ---- 8/9 [optuna]\n",
      "   ----------------------------------- ---- 8/9 [optuna]\n",
      "   ----------------------------------- ---- 8/9 [optuna]\n",
      "   ----------------------------------- ---- 8/9 [optuna]\n",
      "   ----------------------------------- ---- 8/9 [optuna]\n",
      "   ----------------------------------- ---- 8/9 [optuna]\n",
      "   ----------------------------------- ---- 8/9 [optuna]\n",
      "   ----------------------------------- ---- 8/9 [optuna]\n",
      "   ----------------------------------- ---- 8/9 [optuna]\n",
      "   ----------------------------------- ---- 8/9 [optuna]\n",
      "   ----------------------------------- ---- 8/9 [optuna]\n",
      "   ----------------------------------- ---- 8/9 [optuna]\n",
      "   ----------------------------------- ---- 8/9 [optuna]\n",
      "   ----------------------------------- ---- 8/9 [optuna]\n",
      "   ----------------------------------- ---- 8/9 [optuna]\n",
      "   ---------------------------------------- 9/9 [optuna]\n",
      "\n",
      "Successfully installed Mako-1.3.10 MarkupSafe-3.0.2 PyYAML-6.0.2 alembic-1.16.5 colorlog-6.9.0 greenlet-3.2.4 optuna-4.5.0 sqlalchemy-2.0.43 typing-extensions-4.15.0\n"
     ]
    }
   ],
   "source": [
    "!pip install optuna"
   ]
  },
  {
   "cell_type": "code",
   "execution_count": null,
   "id": "d1713a43",
   "metadata": {},
   "outputs": [],
   "source": []
  }
 ],
 "metadata": {
  "kernelspec": {
   "display_name": ".venv",
   "language": "python",
   "name": "python3"
  },
  "language_info": {
   "codemirror_mode": {
    "name": "ipython",
    "version": 3
   },
   "file_extension": ".py",
   "mimetype": "text/x-python",
   "name": "python",
   "nbconvert_exporter": "python",
   "pygments_lexer": "ipython3",
   "version": "3.12.6"
  }
 },
 "nbformat": 4,
 "nbformat_minor": 5
}
