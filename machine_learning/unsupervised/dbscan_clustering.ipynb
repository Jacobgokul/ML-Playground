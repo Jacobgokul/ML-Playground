{
 "cells": [
  {
   "cell_type": "markdown",
   "id": "85824fee",
   "metadata": {},
   "source": [
    "### What is DBSCAN clustering?\n",
    "DBSCAN stands for Density-Based Spatial Clustering of Applications with Noise\n",
    "- A density-based clustering algorithm.\n",
    "\n",
    "- Groups together points that are close enough (dense regions).\n",
    "\n",
    "- Points in low-density areas are labeled as outliers (noise).\n",
    "\n",
    "- Unlike K-Means:\n",
    "\n",
    "    - No need to specify the number of clusters.\n",
    "\n",
    "    - Can find clusters of arbitrary shape."
   ]
  },
  {
   "cell_type": "markdown",
   "id": "83db49ee",
   "metadata": {},
   "source": [
    "Example: \n",
    "- Think of people standing in a ground:\n",
    "\n",
    "    - If many people stand close → they form a group (cluster).\n",
    "\n",
    "    - If someone is standing far away → they are alone (noise).\n",
    "    \n",
    "That’s exactly what DBSCAN does with data points."
   ]
  },
  {
   "cell_type": "markdown",
   "id": "4242568f",
   "metadata": {},
   "source": [
    "Parameters\n",
    "\n",
    "- ε (epsilon) → Neighborhood radius (how close points should be).\n",
    "\n",
    "- MinPts → Minimum number of points required to form a dense region (cluster).\n",
    "\n",
    "Example:\n",
    "\n",
    "- ε = 2 meters\n",
    "\n",
    "- MinPts = 3\n",
    "\n",
    "    If a person has at least 3 friends within 2 meters → he is the center of a group."
   ]
  },
  {
   "cell_type": "markdown",
   "id": "a3e0ce13",
   "metadata": {},
   "source": [
    "#### How its works\n",
    "- Pick a random unvisited point.\n",
    "\n",
    "- Find all neighbors within radius ε.\n",
    "\n",
    "- If neighbors ≥ MinPts → mark as a core point → form a cluster.\n",
    "\n",
    "- Expand the cluster by visiting all neighbors recursively.\n",
    "\n",
    "- If neighbors < MinPts → mark as noise (may later become border point).\n",
    "\n",
    "- Repeat until all points are visited."
   ]
  },
  {
   "cell_type": "code",
   "execution_count": 1,
   "id": "8d850df6",
   "metadata": {},
   "outputs": [
    {
     "data": {
      "image/png": "[encoded data removed]",
      "text/plain": [
       "<Figure size 640x480 with 1 Axes>"
      ]
     },
     "metadata": {},
     "output_type": "display_data"
    }
   ],
   "source": [
    "import numpy as np\n",
    "import matplotlib.pyplot as plt\n",
    "from sklearn.cluster import DBSCAN\n",
    "\n",
    "# Example data: X and Y are coordinates of people\n",
    "X = np.array([\n",
    "    [1, 2], [2, 2], [2, 3], [8, 7], [8, 8], [25, 80]  # last one is far away\n",
    "])\n",
    "\n",
    "# Run DBSCAN\n",
    "db = DBSCAN(eps=2, min_samples=2).fit(X)\n",
    "labels = db.labels_\n",
    "\n",
    "\n",
    "# Plot clusters\n",
    "plt.scatter(X[:,0], X[:,1], c=labels, cmap=\"rainbow\", s=100)\n",
    "plt.title(\"DBSCAN Clustering Example\")\n",
    "plt.show()"
   ]
  },
  {
   "cell_type": "code",
   "execution_count": 2,
   "id": "b3756fea",
   "metadata": {},
   "outputs": [
    {
     "data": {
      "text/plain": [
       "array([ 0,  0,  0,  1,  1, -1])"
      ]
     },
     "execution_count": 2,
     "metadata": {},
     "output_type": "execute_result"
    }
   ],
   "source": [
    "labels"
   ]
  },
  {
   "cell_type": "markdown",
   "id": "1e1ebe03",
   "metadata": {},
   "source": [
    "Output Meaning:\n",
    "\n",
    "- Same color → same cluster.\n",
    "\n",
    "- -1 → noise (outlier).\n",
    "\n",
    "- Here, last point [25, 80] will be noise because it’s far."
   ]
  },
  {
   "cell_type": "markdown",
   "id": "58631212",
   "metadata": {},
   "source": []
  }
 ],
 "metadata": {
  "kernelspec": {
   "display_name": ".venv",
   "language": "python",
   "name": "python3"
  },
  "language_info": {
   "codemirror_mode": {
    "name": "ipython",
    "version": 3
   },
   "file_extension": ".py",
   "mimetype": "text/x-python",
   "name": "python",
   "nbconvert_exporter": "python",
   "pygments_lexer": "ipython3",
   "version": "3.12.6"
  }
 },
 "nbformat": 4,
 "nbformat_minor": 5
}
