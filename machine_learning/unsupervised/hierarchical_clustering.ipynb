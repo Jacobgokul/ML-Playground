{
 "cells": [
  {
   "cell_type": "markdown",
   "id": "9d58f4f7",
   "metadata": {},
   "source": [
    "## Hierarchical Clustering\n",
    "Hierarchical clustering is an unsupervised learning algorithm used to group similar data points into clusters, while also building a hierarchy (tree-like structure) of clusters.\n",
    "- Unlike K-Means, you don’t need to specify the number of clusters in advance.\n",
    "\n",
    "- Output can be represented by a dendrogram (tree diagram showing merges/splits).\n"
   ]
  },
  {
   "cell_type": "markdown",
   "id": "ceb81d1b",
   "metadata": {},
   "source": [
    "### Two Main Types\n",
    "##### 1. Agglomerative (Bottom-Up, Most Common)\n",
    "- Start: Each point = its own cluster.\n",
    "- Iteratively merge the two closest clusters until all points form one big cluster.\n",
    "\n",
    "##### 2. Divisive (Top-Down, Rarely Used)\n",
    "- Start: All points in one big cluster.\n",
    "- Iteratively split clusters until every point is its own cluster."
   ]
  },
  {
   "cell_type": "markdown",
   "id": "eb910030",
   "metadata": {},
   "source": [
    "### Agglomerative Hierarchical Clustering (Bottom–Up)\n",
    "\n",
    "#### What is Agglomerative Clustering?\n",
    "- It’s the most common type of hierarchical clustering.\n",
    "\n",
    "- Bottom–Up approach:\n",
    "\n",
    "    - Start with each data point as its own cluster.\n",
    "\n",
    "    - Gradually merge the closest clusters.\n",
    "\n",
    "    - Repeat until only one cluster remains.\n",
    "\n",
    "- The result is visualized with a dendrogram (tree diagram)."
   ]
  },
  {
   "cell_type": "markdown",
   "id": "cea0ff7c",
   "metadata": {},
   "source": [
    "#### How It Works (Step by Step)\n",
    "1. Initialization\n",
    "\n",
    "    - Suppose you have 5 data points: A, B, C, D, E.\n",
    "\n",
    "    - Start: each point = its own cluster\n",
    "\n",
    "    - {A}, {B}, {C}, {D}, {E}\n",
    "\n",
    "2. Compute Distance Matrix\n",
    "\n",
    "    - Calculate pairwise distances between all clusters (Euclidean is common).\n",
    "\n",
    "3. Merge Closest Clusters\n",
    "\n",
    "    - Find the two clusters with the smallest distance.\n",
    "\n",
    "    - Merge them into a single cluster.\n",
    "\n",
    "    - Example: if A and B are closest → {A, B}\n",
    "\n",
    "4. Update Distance Matrix\n",
    "\n",
    "    - Recompute distances between new cluster {A, B} and other clusters.\n",
    "\n",
    "    - Use a linkage method:\n",
    "\n",
    "        - Single Linkage → minimum distance\n",
    "\n",
    "        - Complete Linkage → maximum distance\n",
    "\n",
    "        - Average Linkage → average distance\n",
    "\n",
    "        - Ward’s Method → minimize variance\n",
    "\n",
    "5. Repeat\n",
    "\n",
    "    - Merge the next closest clusters.\n",
    "\n",
    "    - Continue until all data points belong to a single cluster.\n",
    "\n",
    "6. Form Final Clusters\n",
    "\n",
    "    - Cut the dendrogram at a chosen distance (height).\n",
    "\n",
    "    - Example: Cut at height = 3 → get 2 or 3 meaningful clusters."
   ]
  },
  {
   "cell_type": "markdown",
   "id": "6f8f3cc9",
   "metadata": {},
   "source": [
    "Example Analogy (Colleges)\n",
    "\n",
    "- Start: {GCT}, {PSG}, {BIT}\n",
    "- Step 1: PSG & BIT are closest (both private) → merge {PSG, BIT}\n",
    "    - {PSG, BIT}(private), {GCT}(Govt)\n",
    "- Step 2: GCT is merged later with {PSG, BIT} → {GCT, PSG, BIT}\n",
    "\n",
    "- If we cut the dendrogram before GCT joins, we get 2 clusters: Govt vs Private."
   ]
  },
  {
   "cell_type": "code",
   "execution_count": null,
   "id": "e97bdf8a",
   "metadata": {},
   "outputs": [
    {
     "name": "stdout",
     "output_type": "stream",
     "text": [
      "   Age  Income_LPA\n",
      "0   22          16\n",
      "1   25           8\n",
      "2   28          10\n",
      "3   30           9\n",
      "4   32          15\n",
      "5   35          12\n",
      "6   40          22\n",
      "7   45          26\n",
      "8   50          10\n",
      "9   55          35\n"
     ]
    }
   ],
   "source": [
    "import pandas as pd\n",
    "from sklearn.preprocessing import StandardScaler\n",
    "from scipy.cluster.hierarchy import dendrogram, linkage, fcluster\n",
    "\n",
    "data = {\n",
    "    \"Age\": [22, 25, 28, 30, 32, 35, 40, 45, 50, 55],\n",
    "    \"Income_LPA\": [16, 8, 10, 9, 15, 12, 22, 26, 10, 35],\n",
    "} #no target (output)\n",
    "\n",
    "df = pd.DataFrame(data)\n",
    "print(df)\n"
   ]
  },
  {
   "cell_type": "code",
   "execution_count": 3,
   "id": "8ab47dc6",
   "metadata": {},
   "outputs": [],
   "source": [
    "# Select features\n",
    "X = df[[\"Age\", \"Income_LPA\"]]\n",
    "\n",
    "# Scale features\n",
    "X_scaled = StandardScaler().fit_transform(X)"
   ]
  },
  {
   "cell_type": "code",
   "execution_count": 4,
   "id": "b9bbe9f6",
   "metadata": {},
   "outputs": [],
   "source": [
    "# Perform Agglomerative Clustering (Ward’s method)\n",
    "Z = linkage(X_scaled, method=\"ward\")"
   ]
  },
  {
   "cell_type": "code",
   "execution_count": 5,
   "id": "db40e5ba",
   "metadata": {},
   "outputs": [
    {
     "data": {
      "image/png": "[encoded data removed]",
      "text/plain": [
       "<Figure size 1000x500 with 1 Axes>"
      ]
     },
     "metadata": {},
     "output_type": "display_data"
    }
   ],
   "source": [
    "import matplotlib.pyplot as plt\n",
    "\n",
    "# Plot dendrogram\n",
    "plt.figure(figsize=(10, 5))\n",
    "dendrogram(Z, truncate_mode=\"level\", p=5)\n",
    "plt.title(\"Agglomerative Hierarchical Clustering Dendrogram\")\n",
    "plt.xlabel(\"Data Points\")\n",
    "plt.ylabel(\"Distance\")\n",
    "plt.show()"
   ]
  },
  {
   "cell_type": "code",
   "execution_count": 6,
   "id": "9b0e8d7c",
   "metadata": {},
   "outputs": [],
   "source": [
    "# Cut dendrogram into 3 clusters\n",
    "clusters = fcluster(Z, t=3, criterion=\"maxclust\")\n",
    "df[\"Cluster\"] = clusters"
   ]
  },
  {
   "cell_type": "code",
   "execution_count": 7,
   "id": "816878b3",
   "metadata": {},
   "outputs": [
    {
     "data": {
      "text/html": [
       "<div>\n",
       "<style scoped>\n",
       "    .dataframe tbody tr th:only-of-type {\n",
       "        vertical-align: middle;\n",
       "    }\n",
       "\n",
       "    .dataframe tbody tr th {\n",
       "        vertical-align: top;\n",
       "    }\n",
       "\n",
       "    .dataframe thead th {\n",
       "        text-align: right;\n",
       "    }\n",
       "</style>\n",
       "<table border=\"1\" class=\"dataframe\">\n",
       "  <thead>\n",
       "    <tr style=\"text-align: right;\">\n",
       "      <th></th>\n",
       "      <th>Age</th>\n",
       "      <th>Income_LPA</th>\n",
       "      <th>Cluster</th>\n",
       "    </tr>\n",
       "  </thead>\n",
       "  <tbody>\n",
       "    <tr>\n",
       "      <th>0</th>\n",
       "      <td>22</td>\n",
       "      <td>16</td>\n",
       "      <td>1</td>\n",
       "    </tr>\n",
       "    <tr>\n",
       "      <th>1</th>\n",
       "      <td>25</td>\n",
       "      <td>8</td>\n",
       "      <td>1</td>\n",
       "    </tr>\n",
       "    <tr>\n",
       "      <th>2</th>\n",
       "      <td>28</td>\n",
       "      <td>10</td>\n",
       "      <td>1</td>\n",
       "    </tr>\n",
       "    <tr>\n",
       "      <th>3</th>\n",
       "      <td>30</td>\n",
       "      <td>9</td>\n",
       "      <td>1</td>\n",
       "    </tr>\n",
       "    <tr>\n",
       "      <th>4</th>\n",
       "      <td>32</td>\n",
       "      <td>15</td>\n",
       "      <td>1</td>\n",
       "    </tr>\n",
       "    <tr>\n",
       "      <th>5</th>\n",
       "      <td>35</td>\n",
       "      <td>12</td>\n",
       "      <td>1</td>\n",
       "    </tr>\n",
       "    <tr>\n",
       "      <th>6</th>\n",
       "      <td>40</td>\n",
       "      <td>22</td>\n",
       "      <td>2</td>\n",
       "    </tr>\n",
       "    <tr>\n",
       "      <th>7</th>\n",
       "      <td>45</td>\n",
       "      <td>26</td>\n",
       "      <td>2</td>\n",
       "    </tr>\n",
       "    <tr>\n",
       "      <th>8</th>\n",
       "      <td>50</td>\n",
       "      <td>10</td>\n",
       "      <td>3</td>\n",
       "    </tr>\n",
       "    <tr>\n",
       "      <th>9</th>\n",
       "      <td>55</td>\n",
       "      <td>35</td>\n",
       "      <td>2</td>\n",
       "    </tr>\n",
       "  </tbody>\n",
       "</table>\n",
       "</div>"
      ],
      "text/plain": [
       "   Age  Income_LPA  Cluster\n",
       "0   22          16        1\n",
       "1   25           8        1\n",
       "2   28          10        1\n",
       "3   30           9        1\n",
       "4   32          15        1\n",
       "5   35          12        1\n",
       "6   40          22        2\n",
       "7   45          26        2\n",
       "8   50          10        3\n",
       "9   55          35        2"
      ]
     },
     "execution_count": 7,
     "metadata": {},
     "output_type": "execute_result"
    }
   ],
   "source": [
    "df"
   ]
  },
  {
   "cell_type": "code",
   "execution_count": 10,
   "id": "3b9bd141",
   "metadata": {},
   "outputs": [
    {
     "data": {
      "image/png": "[encoded data removed]",
      "text/plain": [
       "<Figure size 800x600 with 1 Axes>"
      ]
     },
     "metadata": {},
     "output_type": "display_data"
    }
   ],
   "source": [
    "import seaborn as sns\n",
    "# Visualize clusters\n",
    "plt.figure(figsize=(8, 6))\n",
    "sns.scatterplot(data=df, x=\"Age\", y=\"Income_LPA\", hue=\"Cluster\", palette=\"Set1\", s=100)\n",
    "plt.title(\"Agglomerative Clustering on Age vs Income\")\n",
    "plt.show()"
   ]
  },
  {
   "cell_type": "markdown",
   "id": "fbe39843",
   "metadata": {},
   "source": [
    "---"
   ]
  },
  {
   "cell_type": "markdown",
   "id": "087c8d25",
   "metadata": {},
   "source": [
    "### Divisive Hierarchical Clustering(Top Down)"
   ]
  },
  {
   "cell_type": "markdown",
   "id": "21aa60f5",
   "metadata": {},
   "source": [
    "#### What is it?\n",
    "\n",
    "- Divisive means “Top–Down”.\n",
    "\n",
    "- Start with all data points in one cluster.\n",
    "\n",
    "- Iteratively split clusters into smaller ones until every point is its own cluster (or until you reach the desired number of clusters)."
   ]
  },
  {
   "cell_type": "markdown",
   "id": "ad11cc10",
   "metadata": {},
   "source": [
    "#### How it Works (Steps)\n",
    "\n",
    "- Start with all data points as a single cluster.\n",
    "\n",
    "- Pick a cluster to split (usually the one with the largest variance).\n",
    "\n",
    "- Decide a splitting criterion (often K-Means or distance-based).\n",
    "\n",
    "- Continue splitting clusters recursively until you reach the stopping condition:\n",
    "\n",
    "    - Predefined number of clusters (k), or\n",
    "\n",
    "    - Minimum cluster size, or\n",
    "\n",
    "    - Maximum depth."
   ]
  },
  {
   "cell_type": "markdown",
   "id": "2111f2f7",
   "metadata": {},
   "source": [
    "Example (Colleges analogy)\n",
    "\n",
    "- Imagine all colleges (GCT, PSG, BIT) are one big cluster.\n",
    "\n",
    "- First split → Govt vs Private.\n",
    "\n",
    "- Next split private → PSG vs BIT.\n",
    "\n",
    "- Now we have 3 clusters: GCT, PSG, BIT."
   ]
  },
  {
   "cell_type": "code",
   "execution_count": 18,
   "id": "2a337271",
   "metadata": {},
   "outputs": [],
   "source": [
    "# Sample dataset\n",
    "data = {\n",
    "    \"Age\": [22, 25, 28, 30, 32, 35, 40, 45, 50, 55],\n",
    "    \"Income_LPA\": [16, 8, 10, 9, 15, 12, 22, 26, 10, 35]\n",
    "}\n",
    "df = pd.DataFrame(data)"
   ]
  },
  {
   "cell_type": "code",
   "execution_count": 19,
   "id": "d55108eb",
   "metadata": {},
   "outputs": [],
   "source": [
    "# Step 1: Start with all points in one cluster\n",
    "df['buy_house'] = 0"
   ]
  },
  {
   "cell_type": "code",
   "execution_count": 20,
   "id": "26a6cb2b",
   "metadata": {},
   "outputs": [
    {
     "data": {
      "text/html": [
       "<div>\n",
       "<style scoped>\n",
       "    .dataframe tbody tr th:only-of-type {\n",
       "        vertical-align: middle;\n",
       "    }\n",
       "\n",
       "    .dataframe tbody tr th {\n",
       "        vertical-align: top;\n",
       "    }\n",
       "\n",
       "    .dataframe thead th {\n",
       "        text-align: right;\n",
       "    }\n",
       "</style>\n",
       "<table border=\"1\" class=\"dataframe\">\n",
       "  <thead>\n",
       "    <tr style=\"text-align: right;\">\n",
       "      <th></th>\n",
       "      <th>Age</th>\n",
       "      <th>Income_LPA</th>\n",
       "      <th>buy_house</th>\n",
       "    </tr>\n",
       "  </thead>\n",
       "  <tbody>\n",
       "    <tr>\n",
       "      <th>0</th>\n",
       "      <td>22</td>\n",
       "      <td>16</td>\n",
       "      <td>0</td>\n",
       "    </tr>\n",
       "    <tr>\n",
       "      <th>1</th>\n",
       "      <td>25</td>\n",
       "      <td>8</td>\n",
       "      <td>0</td>\n",
       "    </tr>\n",
       "    <tr>\n",
       "      <th>2</th>\n",
       "      <td>28</td>\n",
       "      <td>10</td>\n",
       "      <td>0</td>\n",
       "    </tr>\n",
       "    <tr>\n",
       "      <th>3</th>\n",
       "      <td>30</td>\n",
       "      <td>9</td>\n",
       "      <td>0</td>\n",
       "    </tr>\n",
       "    <tr>\n",
       "      <th>4</th>\n",
       "      <td>32</td>\n",
       "      <td>15</td>\n",
       "      <td>0</td>\n",
       "    </tr>\n",
       "    <tr>\n",
       "      <th>5</th>\n",
       "      <td>35</td>\n",
       "      <td>12</td>\n",
       "      <td>0</td>\n",
       "    </tr>\n",
       "    <tr>\n",
       "      <th>6</th>\n",
       "      <td>40</td>\n",
       "      <td>22</td>\n",
       "      <td>0</td>\n",
       "    </tr>\n",
       "    <tr>\n",
       "      <th>7</th>\n",
       "      <td>45</td>\n",
       "      <td>26</td>\n",
       "      <td>0</td>\n",
       "    </tr>\n",
       "    <tr>\n",
       "      <th>8</th>\n",
       "      <td>50</td>\n",
       "      <td>10</td>\n",
       "      <td>0</td>\n",
       "    </tr>\n",
       "    <tr>\n",
       "      <th>9</th>\n",
       "      <td>55</td>\n",
       "      <td>35</td>\n",
       "      <td>0</td>\n",
       "    </tr>\n",
       "  </tbody>\n",
       "</table>\n",
       "</div>"
      ],
      "text/plain": [
       "   Age  Income_LPA  buy_house\n",
       "0   22          16          0\n",
       "1   25           8          0\n",
       "2   28          10          0\n",
       "3   30           9          0\n",
       "4   32          15          0\n",
       "5   35          12          0\n",
       "6   40          22          0\n",
       "7   45          26          0\n",
       "8   50          10          0\n",
       "9   55          35          0"
      ]
     },
     "execution_count": 20,
     "metadata": {},
     "output_type": "execute_result"
    }
   ],
   "source": [
    "df"
   ]
  },
  {
   "cell_type": "code",
   "execution_count": 21,
   "id": "82e3cbab",
   "metadata": {},
   "outputs": [],
   "source": [
    "from sklearn.cluster import KMeans\n",
    "\n",
    "# Step 2: Split the largest cluster (Cluster(buy_house) 0) into 2 using KMeans\n",
    "kmeans = KMeans(n_clusters=2, random_state=42)\n",
    "df['buy_house'] = kmeans.fit_predict(df[['Age','Income_LPA']])"
   ]
  },
  {
   "cell_type": "code",
   "execution_count": 22,
   "id": "e3fb1736",
   "metadata": {},
   "outputs": [
    {
     "data": {
      "text/html": [
       "<div>\n",
       "<style scoped>\n",
       "    .dataframe tbody tr th:only-of-type {\n",
       "        vertical-align: middle;\n",
       "    }\n",
       "\n",
       "    .dataframe tbody tr th {\n",
       "        vertical-align: top;\n",
       "    }\n",
       "\n",
       "    .dataframe thead th {\n",
       "        text-align: right;\n",
       "    }\n",
       "</style>\n",
       "<table border=\"1\" class=\"dataframe\">\n",
       "  <thead>\n",
       "    <tr style=\"text-align: right;\">\n",
       "      <th></th>\n",
       "      <th>Age</th>\n",
       "      <th>Income_LPA</th>\n",
       "      <th>buy_house</th>\n",
       "    </tr>\n",
       "  </thead>\n",
       "  <tbody>\n",
       "    <tr>\n",
       "      <th>0</th>\n",
       "      <td>22</td>\n",
       "      <td>16</td>\n",
       "      <td>0</td>\n",
       "    </tr>\n",
       "    <tr>\n",
       "      <th>1</th>\n",
       "      <td>25</td>\n",
       "      <td>8</td>\n",
       "      <td>0</td>\n",
       "    </tr>\n",
       "    <tr>\n",
       "      <th>2</th>\n",
       "      <td>28</td>\n",
       "      <td>10</td>\n",
       "      <td>0</td>\n",
       "    </tr>\n",
       "    <tr>\n",
       "      <th>3</th>\n",
       "      <td>30</td>\n",
       "      <td>9</td>\n",
       "      <td>0</td>\n",
       "    </tr>\n",
       "    <tr>\n",
       "      <th>4</th>\n",
       "      <td>32</td>\n",
       "      <td>15</td>\n",
       "      <td>0</td>\n",
       "    </tr>\n",
       "    <tr>\n",
       "      <th>5</th>\n",
       "      <td>35</td>\n",
       "      <td>12</td>\n",
       "      <td>0</td>\n",
       "    </tr>\n",
       "    <tr>\n",
       "      <th>6</th>\n",
       "      <td>40</td>\n",
       "      <td>22</td>\n",
       "      <td>0</td>\n",
       "    </tr>\n",
       "    <tr>\n",
       "      <th>7</th>\n",
       "      <td>45</td>\n",
       "      <td>26</td>\n",
       "      <td>1</td>\n",
       "    </tr>\n",
       "    <tr>\n",
       "      <th>8</th>\n",
       "      <td>50</td>\n",
       "      <td>10</td>\n",
       "      <td>0</td>\n",
       "    </tr>\n",
       "    <tr>\n",
       "      <th>9</th>\n",
       "      <td>55</td>\n",
       "      <td>35</td>\n",
       "      <td>1</td>\n",
       "    </tr>\n",
       "  </tbody>\n",
       "</table>\n",
       "</div>"
      ],
      "text/plain": [
       "   Age  Income_LPA  buy_house\n",
       "0   22          16          0\n",
       "1   25           8          0\n",
       "2   28          10          0\n",
       "3   30           9          0\n",
       "4   32          15          0\n",
       "5   35          12          0\n",
       "6   40          22          0\n",
       "7   45          26          1\n",
       "8   50          10          0\n",
       "9   55          35          1"
      ]
     },
     "execution_count": 22,
     "metadata": {},
     "output_type": "execute_result"
    }
   ],
   "source": [
    "df"
   ]
  },
  {
   "cell_type": "code",
   "execution_count": 24,
   "id": "acb10816",
   "metadata": {},
   "outputs": [
    {
     "data": {
      "image/png": "[encoded data removed]",
      "text/plain": [
       "<Figure size 800x600 with 1 Axes>"
      ]
     },
     "metadata": {},
     "output_type": "display_data"
    }
   ],
   "source": [
    "plt.figure(figsize=(8,6))\n",
    "for cluster in df['buy_house'].unique():\n",
    "    subset = df[df['buy_house'] == cluster]\n",
    "    plt.scatter(subset['Age'], subset['Income_LPA'], label=f'buy_house {cluster}')\n",
    "\n",
    "plt.xlabel(\"Age\")\n",
    "plt.ylabel(\"Income (LPA)\")\n",
    "plt.title(\"Divisive Clustering (Top-Down Example)\")\n",
    "plt.legend()\n",
    "plt.show()"
   ]
  },
  {
   "cell_type": "code",
   "execution_count": null,
   "id": "da002128",
   "metadata": {},
   "outputs": [],
   "source": []
  }
 ],
 "metadata": {
  "kernelspec": {
   "display_name": ".venv",
   "language": "python",
   "name": "python3"
  },
  "language_info": {
   "codemirror_mode": {
    "name": "ipython",
    "version": 3
   },
   "file_extension": ".py",
   "mimetype": "text/x-python",
   "name": "python",
   "nbconvert_exporter": "python",
   "pygments_lexer": "ipython3",
   "version": "3.12.6"
  }
 },
 "nbformat": 4,
 "nbformat_minor": 5
}
