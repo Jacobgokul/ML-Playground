{
  "cells": [
    {
      "cell_type": "markdown",
      "metadata": {
        "colab_type": "text",
        "id": "view-in-github"
      },
      "source": [
        "<a href=\"https://colab.research.google.com/github/Jacobgokul/ML-Playground/blob/main/RNN.ipynb\" target=\"_parent\"><img src=\"https://colab.research.google.com/assets/colab-badge.svg\" alt=\"Open In Colab\"/></a>"
      ]
    },
    {
      "cell_type": "markdown",
      "metadata": {
        "id": "nC_c4y6grL-V"
      },
      "source": [
        "## What is RNN?\n",
        "- RNN stands for Recurrent Neural Network.\n",
        "\n",
        "- It’s a type of neural network designed to handle sequential data, where the order matters.\n",
        "\n",
        "- Unlike standard neural networks, RNNs remember previous inputs using hidden states, making them perfect for sequences like text, speech, or time series.\n",
        "\n",
        "- Key Idea:\n",
        "    RNNs process data step by step, using the previous step’s output (hidden state) as context for the next step."
      ]
    },
    {
      "cell_type": "markdown",
      "metadata": {
        "id": "GHYwkpQescuV"
      },
      "source": [
        "## How RNN Works\n",
        "\n",
        "- Input Sequence: The input is processed one step at a time.\n",
        "\n",
        "- Hidden State: At each step, the model updates a hidden state that stores information about past inputs.\n",
        "\n",
        "- Recurrent Connection: The output from the previous step is passed as an input to the next step.\n",
        "\n",
        "- Output: After processing all steps, the network provides an output (classification, prediction, etc.)."
      ]
    },
    {
      "cell_type": "markdown",
      "metadata": {},
      "source": [
        "## Why Use RNN?\n",
        "- Perfect for sequential/temporal data: order matters.\n",
        "\n",
        "- Captures dependencies across time or sequence.\n",
        "\n",
        "- Can generate sequences (text, music) or predict future steps."
      ]
    },
    {
      "cell_type": "code",
      "execution_count": 1,
      "metadata": {},
      "outputs": [],
      "source": [
        "import numpy as np\n",
        "import tensorflow as tf\n",
        "from tensorflow.keras.preprocessing.text import Tokenizer\n",
        "from tensorflow.keras.preprocessing.sequence import pad_sequences\n",
        "from tensorflow.keras.models import Sequential\n",
        "from tensorflow.keras.layers import Embedding, SimpleRNN, Dense"
      ]
    },
    {
      "cell_type": "code",
      "execution_count": 2,
      "metadata": {},
      "outputs": [],
      "source": [
        "# Example text corpus\n",
        "corpus = [\n",
        "    \"hello how are you\",\n",
        "    \"hello how is your day\",\n",
        "    \"hello how are your friends\",\n",
        "    \"hello what are you doing\"\n",
        "]"
      ]
    },
    {
      "cell_type": "code",
      "execution_count": 3,
      "metadata": {},
      "outputs": [
        {
          "name": "stdout",
          "output_type": "stream",
          "text": [
            "Total unique words: 11\n"
          ]
        }
      ],
      "source": [
        "# Tokenize words\n",
        "tokenizer = Tokenizer()\n",
        "tokenizer.fit_on_texts(corpus)\n",
        "total_words = len(tokenizer.word_index) + 1\n",
        "print(\"Total unique words:\", total_words)"
      ]
    },
    {
      "cell_type": "code",
      "execution_count": 5,
      "metadata": {},
      "outputs": [],
      "source": [
        "# Create input sequences\n",
        "input_sequences = []\n",
        "for line in corpus:\n",
        "    token_list = tokenizer.texts_to_sequences([line])[0]\n",
        "    for i in range(1, len(token_list)):\n",
        "        n_gram_sequence = token_list[:i+1]\n",
        "        input_sequences.append(n_gram_sequence)"
      ]
    },
    {
      "cell_type": "code",
      "execution_count": 6,
      "metadata": {},
      "outputs": [
        {
          "name": "stdout",
          "output_type": "stream",
          "text": [
            "Example X[0]: [0 0 0 1] -> y[0]: 2\n"
          ]
        }
      ],
      "source": [
        "# Pad sequences to same length\n",
        "max_seq_len = max([len(x) for x in input_sequences])\n",
        "input_sequences = np.array(pad_sequences(input_sequences, maxlen=max_seq_len, padding='pre'))\n",
        "\n",
        "# Split inputs and labels\n",
        "X = input_sequences[:,:-1]\n",
        "y = input_sequences[:,-1]\n",
        "\n",
        "print(\"Example X[0]:\", X[0], \"-> y[0]:\", y[0])"
      ]
    },
    {
      "cell_type": "markdown",
      "metadata": {},
      "source": [
        "Explanation:\n",
        "\n",
        "- Tokenizer converts words → integers.\n",
        "\n",
        "- Input sequences: previous words predict the next word.\n",
        "\n",
        "- Padding ensures all sequences have the same length."
      ]
    },
    {
      "cell_type": "code",
      "execution_count": 7,
      "metadata": {},
      "outputs": [
        {
          "name": "stderr",
          "output_type": "stream",
          "text": [
            "d:\\A Code\\ML-Playground\\.venv\\Lib\\site-packages\\keras\\src\\layers\\core\\embedding.py:97: UserWarning: Argument `input_length` is deprecated. Just remove it.\n",
            "  warnings.warn(\n"
          ]
        }
      ],
      "source": [
        "# Build RNN Model\n",
        "model = Sequential()\n",
        "\n",
        "# Embedding layer: converts word indices into dense vectors\n",
        "model.add(Embedding(input_dim=total_words, output_dim=10, input_length=max_seq_len-1))\n",
        "\n",
        "# RNN layer: learns sequence patterns\n",
        "model.add(SimpleRNN(50, activation='relu'))\n",
        "\n",
        "# Output layer: predicts next word\n",
        "model.add(Dense(total_words, activation='softmax'))\n",
        "\n",
        "# Compile the model\n",
        "model.compile(loss='sparse_categorical_crossentropy', optimizer='adam', metrics=['accuracy'])\n"
      ]
    },
    {
      "cell_type": "code",
      "execution_count": 8,
      "metadata": {},
      "outputs": [
        {
          "name": "stdout",
          "output_type": "stream",
          "text": [
            "Training complete!\n"
          ]
        }
      ],
      "source": [
        "history = model.fit(X, y, epochs=200, verbose=0)\n",
        "print(\"Training complete!\")\n"
      ]
    },
    {
      "cell_type": "markdown",
      "metadata": {},
      "source": [
        "Loss: sparse categorical cross-entropy because labels are integers.\n",
        "\n",
        "Optimizer: Adam for faster convergence.\n",
        "\n",
        "Epochs: 200 (small dataset)."
      ]
    },
    {
      "cell_type": "code",
      "execution_count": 15,
      "metadata": {},
      "outputs": [
        {
          "name": "stdout",
          "output_type": "stream",
          "text": [
            "Input: 'hello how is' → Predicted next word: 'your'\n"
          ]
        }
      ],
      "source": [
        "def predict_next_word(model, tokenizer, text_seq, max_seq_len):\n",
        "    token_list = tokenizer.texts_to_sequences([text_seq])[0]\n",
        "    token_list = pad_sequences([token_list], maxlen=max_seq_len-1, padding='pre')\n",
        "    predicted = model.predict(token_list, verbose=0)\n",
        "    predicted_word_index = np.argmax(predicted)\n",
        "    \n",
        "    for word, index in tokenizer.word_index.items():\n",
        "        if index == predicted_word_index:\n",
        "            return word\n",
        "\n",
        "# Test the model\n",
        "seed_text = \"hello how is\"\n",
        "next_word = predict_next_word(model, tokenizer, seed_text, max_seq_len)\n",
        "print(f\"Input: '{seed_text}' → Predicted next word: '{next_word}'\")\n"
      ]
    },
    {
      "cell_type": "markdown",
      "metadata": {},
      "source": [
        "Explanation:\n",
        "\n",
        "- Converts input text → integer sequence.\n",
        "\n",
        "- Pads sequence to match training input length.\n",
        "\n",
        "- Predicts next word based on RNN memory of previous words."
      ]
    },
    {
      "cell_type": "markdown",
      "metadata": {},
      "source": [
        "#### Key Takeaways:\n",
        "\n",
        "- RNNs are great for sequences like text, audio, and time series.\n",
        "\n",
        "- Hidden states carry memory from previous timesteps.\n",
        "\n",
        "- Embedding layer converts words into dense vector representation.\n",
        "\n",
        "- SimpleRNN processes the sequence step by step.\n",
        "\n",
        "- Dense + softmax outputs probability of the next word."
      ]
    },
    {
      "cell_type": "code",
      "execution_count": null,
      "metadata": {},
      "outputs": [
        {
          "data": {
            "text/plain": [
              "'\\nInput Sequence:        \"hello\"     \"how\"      \"are\"\\n                        x1          x2         x3\\n                         |           |          |\\n                     Embedding    Embedding  Embedding\\n                         |           |          |\\n                         e1          e2         e3\\n                         |           |          |\\nHidden States:          h0 --------> h1 --------> h2 --------> h3\\n                         |           |          |\\n                         ----------------------- \\n                                     |\\n                                Dense + Softmax\\n                                     |\\n                             Predicted next word\\n'"
            ]
          },
          "execution_count": 18,
          "metadata": {},
          "output_type": "execute_result"
        }
      ],
      "source": [
        "\"\"\"\n",
        "Input Sequence:        \"hello\"     \"how\"      \"are\"\n",
        "                        x1          x2         x3\n",
        "                         |           |          |\n",
        "                     Embedding    Embedding  Embedding\n",
        "                         |           |          |\n",
        "                         e1          e2         e3\n",
        "                         |           |          |\n",
        "Hidden States:          h0 --------> h1 --------> h2 --------> h3\n",
        "                         |           |          |\n",
        "                         ----------------------- \n",
        "                                     |\n",
        "                                output layer + Softmax\n",
        "                                     |\n",
        "                             Predicted next word\n",
        "\"\"\""
      ]
    },
    {
      "cell_type": "code",
      "execution_count": null,
      "metadata": {},
      "outputs": [],
      "source": []
    }
  ],
  "metadata": {
    "accelerator": "GPU",
    "colab": {
      "authorship_tag": "ABX9TyOZGODMUz3TwK9YV3MRA/uO",
      "gpuType": "T4",
      "include_colab_link": true,
      "provenance": []
    },
    "kernelspec": {
      "display_name": ".venv",
      "language": "python",
      "name": "python3"
    },
    "language_info": {
      "codemirror_mode": {
        "name": "ipython",
        "version": 3
      },
      "file_extension": ".py",
      "mimetype": "text/x-python",
      "name": "python",
      "nbconvert_exporter": "python",
      "pygments_lexer": "ipython3",
      "version": "3.12.6"
    }
  },
  "nbformat": 4,
  "nbformat_minor": 0
}
