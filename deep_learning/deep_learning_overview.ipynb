{
  "cells": [
    {
      "cell_type": "markdown",
      "metadata": {
        "colab_type": "text",
        "id": "view-in-github"
      },
      "source": [
        "<a href=\"https://colab.research.google.com/github/Jacobgokul/ML-Playground/blob/main/Deep_Learning.ipynb\" target=\"_parent\"><img src=\"https://colab.research.google.com/assets/colab-badge.svg\" alt=\"Open In Colab\"/></a>"
      ]
    },
    {
      "cell_type": "markdown",
      "metadata": {
        "id": "CZe9mcJ4NHI8"
      },
      "source": [
        "# What is Deep Learning?\n",
        "\n",
        "Deep Learning is a subfield of Machine Learning that uses artificial neural networks with multiple layers (hence “deep”) to learn complex patterns from data.\n",
        "\n",
        "Unlike classical ML, deep learning can automatically learn features from raw data — like pixels, text, or audio — without much manual effort."
      ]
    },
    {
      "cell_type": "markdown",
      "metadata": {
        "id": "CPt8waFnNOM1"
      },
      "source": [
        "# 🧠 Core Idea:\n",
        "\n",
        "Just like the human brain learns by processing signals through layers of neurons, deep learning models learn using layers of artificial neurons (also called nodes or units)."
      ]
    },
    {
      "cell_type": "markdown",
      "metadata": {
        "id": "feMMsWhYNSxg"
      },
      "source": [
        "# 🧠 What is a Neural Network?\n",
        "\n",
        "A Neural Network is a set of connected layers of artificial neurons (nodes) designed to learn patterns from data.\n",
        "\n",
        "It's inspired by the structure of the human brain — where each neuron receives inputs, processes them, and passes on the result.\n",
        "\n",
        "\n",
        "## Structure of a Neural Network\n",
        "\n",
        "Input Layer → Hidden Layers → Output Layer\n",
        "\n",
        "Each layer consists of:\n",
        "\n",
        "- Neurons (Nodes) — like mini math units\n",
        "\n",
        "- Weights — numbers that control the importance of inputs\n",
        "\n",
        "- Biases — offset added to the weighted input\n",
        "\n",
        "- Activation Function — transforms the result into something non-linear"
      ]
    },
    {
      "cell_type": "markdown",
      "metadata": {
        "id": "AD47lYS4O5Wd"
      },
      "source": [
        "| **Algorithm**    | **Full Form**                   | **Used For**                            | **Key Idea**                                   |\n",
        "| ---------------- | ------------------------------- | --------------------------------------- | ---------------------------------------------- |\n",
        "| **ANN**          | Artificial Neural Network       | Tabular data, basic problems            | Base model with input → hidden → output layers |\n",
        "| **DNN**          | Deep Neural Network             | Any complex task (vision, text, etc.)   | An ANN with many hidden layers                 |\n",
        "| **MLP**          | Multilayer Perceptron           | Classification & regression (tabular)   | Fully connected layers, no memory              |\n",
        "| **CNN**          | Convolutional Neural Network    | Image & video processing                | Uses filters (kernels) to detect patterns      |\n",
        "| **RNN**          | Recurrent Neural Network        | Time-series & sequences (text, signals) | Has memory; passes info through time           |\n",
        "| **LSTM**         | Long Short-Term Memory          | Long sequences (text, speech)           | Improved RNN with memory gates                 |\n",
        "| **Transformers** | —                               | NLP, vision, large language models      | Self-attention mechanism; parallel processing  |\n",
        "| **GANs**         | Generative Adversarial Networks | Image generation, fake data synthesis   | Generator vs. Discriminator competition        |\n"
      ]
    },
    {
      "cell_type": "markdown",
      "metadata": {
        "id": "WpeO9-xOO-L9"
      },
      "source": [
        "![Screenshot 2025-05-22 095431.png](data:image/png;base64,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)"
      ]
    },
    {
      "cell_type": "markdown",
      "metadata": {
        "id": "T54zTnEiQkP4"
      },
      "source": [
        "---"
      ]
    },
    {
      "cell_type": "markdown",
      "metadata": {},
      "source": [
        "## Key concepts\n",
        "1. Activation Functions\n",
        "2. Loss Functions\n",
        "3. Optimization\n",
        "4. Epochs, Batch size, Learning rate"
      ]
    },
    {
      "cell_type": "markdown",
      "metadata": {
        "id": "dJfGxHSZQqsS"
      },
      "source": [
        "# What is an Activation Function?\n",
        "\n",
        "After computing the weighted sum of inputs in a neuron, we apply an activation function to decide whether the neuron should \"fire\" or not.\n",
        "\n",
        "## Why Activation?\n",
        "\n",
        "Without activation functions, the neural network would behave like just a linear function (like simple y = mx + b).\n",
        "\n",
        "Activation functions introduce non-linearity.\n",
        "\n",
        "This helps the model learn complex patterns like images, voice, and language.\n",
        "\n",
        "Simple Analogy\n",
        "\n",
        "Imagine the neuron as a pipe:\n",
        "\n",
        "Weighted sum = water flowing through\n",
        "\n",
        "Activation function = a valve that controls how much flows out\n",
        "\n",
        "## How It Works?\n",
        "z = (input1 * weight1) + (input2 * weight2) + bias\n",
        "a = activation_function(z)\n",
        "\n",
        "## Types of Activation Functions\n",
        "### 1. Sigmoid Function\n",
        "- Output: Between 0 and 1\n",
        "- Used For: Binary classification (last layer)\n",
        "- Limitations: Causes vanishing gradient (slow learning in deep layers)\n",
        "- formula: 1/(1+e^-x)\n",
        "```py\n",
        "  import numpy as np\n",
        "  def sigmoid(x):\n",
        "    return 1 / (1 + np.exp(-x))\n",
        "```\n",
        "\n",
        "### 2. ReLU (Rectified Linear Unit)\n",
        "- Used For:\n",
        "  - Hidden layers in almost all deep networks\n",
        "\n",
        "  - Very fast and simple\n",
        "- Limitation: If input is negative → output = 0 → Dead Neuron Problem\n",
        "- formula: ReLU(x)=max(0,x)\n",
        "\n",
        "### 3. Leaky ReLU\n",
        "- Fixes the \"dead neuron\" problem in ReLU\n",
        "- Allows small negative output\n",
        "- formula: ![image.png](data:image/png;base64,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)\n",
        "\n",
        "### 4. Tanh (Hyperbolic Tangent)\n",
        "- Output: Between -1 and 1\n",
        "- Better than sigmoid as output is zero-centered\n",
        "- Still suffers from vanishing gradient\n",
        "- formula\n",
        "![image.png](data:image/png;base64,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)\n",
        "\n",
        "\n",
        "### 5. Softmax\n",
        "- Used in multi-class classification (when you have more than 2 categories)\n",
        "- Converts raw scores into probabilities that sum to 1\n",
        "```py\n",
        "import numpy as np\n",
        "def softmax(x):\n",
        "    e_x = np.exp(x - np.max(x))\n",
        "    return e_x / e_x.sum()\n",
        "```"
      ]
    },
    {
      "cell_type": "markdown",
      "metadata": {
        "id": "1jzGexLCDPyF"
      },
      "source": [
        "# What is a Loss Function?\n",
        "A loss function measures how far the model’s prediction is from the actual/true value.\n",
        "\n",
        "It is the error or penalty for a wrong prediction.\n",
        "\n",
        "The smaller the loss → the better the model is performing.\n",
        "\n",
        "Formula idea:\n",
        "\n",
        "    Loss=Difference between prediction and actual\n",
        "\n",
        "## Why Loss Function?\n",
        "- Without loss, the model won’t know how wrong it is.\n",
        "- It acts like a guide/teacher for the neural network.\n",
        "- Helps the optimizer adjust weights in the right direction.\n",
        "- Analogy:\n",
        "    - Imagine giving a test → teacher marks how many mistakes you made (loss).\n",
        "    - Without marks, you wouldn’t know what to improve.\n",
        "\n",
        "## How Does Loss Function Work?\n",
        "- Model makes a prediction (ŷ).\n",
        "\n",
        "- Compare prediction with actual value (y).\n",
        "\n",
        "- Loss function calculates the error.\n",
        "\n",
        "- Optimizer uses this error (via backpropagation) to adjust weights.\n",
        "\n",
        "- Process repeats → model gets better with each update.\n",
        "\n",
        "## Types of Loss Functions\n",
        "- For Regression Problems:\n",
        "    - MSE\n",
        "    - MAE\n",
        "\n",
        "- For Classification Problems:\n",
        "    - Binary Cross-Entropy Loss\n",
        "    - Categorical Cross-Entropy Loss\n",
        "    "
      ]
    },
    {
      "cell_type": "markdown",
      "metadata": {},
      "source": [
        "# What is an Optimizer?\n",
        "An optimizer is an algorithm that updates the weights of the neural network.\n",
        "\n",
        "It tries to minimize the loss function so that predictions get closer to the actual values.\n",
        "\n",
        "## Why Optimizer?\n",
        "- Loss function only tells how wrong the model is.\n",
        "\n",
        "- Optimizer decides how to fix it by changing the weights.\n",
        "\n",
        "- It makes training faster, stable, and accurate.\n",
        "\n",
        "- Analogy:\n",
        "    - Loss = exam marks (mistakes).\n",
        "\n",
        "    - Optimizer = your study strategy to improve marks.\n",
        "\n",
        "##  How Optimizer Works?\n",
        "- Do a forward pass → get prediction\n",
        "\n",
        "- Calculate loss.\n",
        "\n",
        "- Do backpropagation → compute gradients (∂Loss/∂Weights).\n",
        "\n",
        "- Optimizer uses gradients to update weights: \n",
        "\n",
        "        Wnew​=Wold​−η⋅Gradient\n",
        "    \n",
        "    where η (eta) = learning rate.\n",
        "\n",
        "Repeat this process until loss is minimized.\n",
        "\n",
        "## Types of Optimizers\n",
        "#### Gradient Descent\n",
        "- Updates all weights after looking at the whole dataset.\n",
        "\n",
        "- Slow, but accurate.\n",
        "\n",
        "#### Stochastic Gradient Descent (SGD)\n",
        "- Updates weights after each training example.\n",
        "\n",
        "- Faster, but more noisy (fluctuations).\n",
        "\n",
        "#### Mini-Batch Gradient Descent\n",
        "- Combination of batch + SGD.\n",
        "\n",
        "- Updates weights after a small batch of data (e.g., 32 samples).\n",
        "\n",
        "- Most commonly used in practice.\n",
        "\n",
        "#### AdaGrad\n",
        "- Adapts learning rate for each parameter.\n",
        "\n",
        "- Works well for sparse data (e.g., text).\n",
        "\n",
        "#### Momentum\n",
        "- Remembers past updates → avoids oscillations.\n",
        "\n",
        "- Helps reach minimum faster.\n",
        "\n",
        "#### RMSProp\n",
        "- Improves AdaGrad by avoiding very small learning rates.\n",
        "\n",
        "- Good for RNNs and non-stationary problems.\n",
        "\n",
        "#### Adam (Adaptive Moment Estimation)\n",
        "- Combines Momentum + RMSProp.\n",
        "\n",
        "- Fast, efficient, most widely used.\n",
        "\n",
        "- Default choice in most deep learning tasks.\n",
        "\n"
      ]
    },
    {
      "cell_type": "markdown",
      "metadata": {},
      "source": [
        "# Epoch, Batch Size, and Learning Rate\n",
        "## Epoch\n",
        "### What is it?\n",
        "One complete pass of the entire dataset through the neural network.\n",
        "\n",
        "### Why?\n",
        "\n",
        "The model usually needs to see the dataset multiple times to learn properly.\n",
        "\n",
        "### How it works?\n",
        "\n",
        "- If dataset = 1000 samples, batch size = 100 →\n",
        "\n",
        "    - 1 Epoch = 10 updates (1000 ÷ 100).\n",
        "\n",
        "Training for 10 epochs means the model has seen each sample 10 times.\n",
        "\n",
        "#### Example\n",
        "Learning a new subject: one full revision of the book = 1 epoch."
      ]
    },
    {
      "cell_type": "markdown",
      "metadata": {},
      "source": [
        "## Batch Size\n",
        "\n",
        "### What is it?\n",
        "\n",
        "The number of training samples processed before updating weights.\n",
        "\n",
        "### Why?\n",
        "\n",
        "Helps balance training speed and accuracy.\n",
        "\n",
        "Too large = requires more memory.\n",
        "\n",
        "Too small = can make training unstable.\n",
        "\n",
        "### How it works?\n",
        "\n",
        "Dataset split into groups (batches).\n",
        "\n",
        "After each batch → forward propagation → loss → backpropagation → weights updated.\n",
        "\n",
        "#### Example\n",
        "\n",
        "If you have 1000 students to teach:\n",
        "\n",
        "- Batch size 100 → teach 100 students, then test and adjust, repeat (next batch).\n",
        "\n",
        "- Easier than teaching all 1000 at once."
      ]
    },
    {
      "cell_type": "markdown",
      "metadata": {},
      "source": [
        "## Learning Rate (η)\n",
        "### What is it?\n",
        "\n",
        "The step size for updating weights during optimization.\n",
        "\n",
        "### Why?\n",
        "\n",
        "Controls how fast the model learns.\n",
        "\n",
        "Too high → model overshoots, never settles.\n",
        "\n",
        "Too low → model learns very slowly.\n",
        "\n",
        "### How it works?\n",
        "\n",
        "- Update rule:\n",
        "    Wnew​=Wold​−η⋅Gradient\n",
        "\n",
        "The value of η decides how much correction is applied at each step.\n",
        "\n",
        "#### Example\n",
        "\n",
        "Walking down a hill:\n",
        "\n",
        "Big steps (high learning rate) → may jump over the valley.\n",
        "\n",
        "Small steps (low learning rate) → safe but very slow."
      ]
    },
    {
      "cell_type": "markdown",
      "metadata": {},
      "source": []
    }
  ],
  "metadata": {
    "colab": {
      "authorship_tag": "ABX9TyM5t/dRQe40QN2JvXlNWej0",
      "include_colab_link": true,
      "provenance": []
    },
    "kernelspec": {
      "display_name": "Python 3",
      "name": "python3"
    },
    "language_info": {
      "name": "python"
    }
  },
  "nbformat": 4,
  "nbformat_minor": 0
}
