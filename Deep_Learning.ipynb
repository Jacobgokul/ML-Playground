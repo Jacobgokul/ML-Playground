{
  "nbformat": 4,
  "nbformat_minor": 0,
  "metadata": {
    "colab": {
      "provenance": [],
      "authorship_tag": "ABX9TyO2M173kSZ5e+Xhuva9Z53W",
      "include_colab_link": true
    },
    "kernelspec": {
      "name": "python3",
      "display_name": "Python 3"
    },
    "language_info": {
      "name": "python"
    }
  },
  "cells": [
    {
      "cell_type": "markdown",
      "metadata": {
        "id": "view-in-github",
        "colab_type": "text"
      },
      "source": [
        "<a href=\"https://colab.research.google.com/github/Jacobgokul/ML-Playground/blob/main/Deep_Learning.ipynb\" target=\"_parent\"><img src=\"https://colab.research.google.com/assets/colab-badge.svg\" alt=\"Open In Colab\"/></a>"
      ]
    },
    {
      "cell_type": "markdown",
      "source": [
        "# What is Deep Learning?\n",
        "\n",
        "Deep Learning is a subfield of Machine Learning that uses artificial neural networks with multiple layers (hence “deep”) to learn complex patterns from data.\n",
        "\n",
        "Unlike classical ML, deep learning can automatically learn features from raw data — like pixels, text, or audio — without much manual effort."
      ],
      "metadata": {
        "id": "CZe9mcJ4NHI8"
      }
    },
    {
      "cell_type": "markdown",
      "source": [
        "# 🧠 Core Idea:\n",
        "\n",
        "Just like the human brain learns by processing signals through layers of neurons, deep learning models learn using layers of artificial neurons (also called nodes or units)."
      ],
      "metadata": {
        "id": "CPt8waFnNOM1"
      }
    },
    {
      "cell_type": "markdown",
      "source": [
        "# 🧠 What is a Neural Network?\n",
        "\n",
        "A Neural Network is a set of connected layers of artificial neurons (nodes) designed to learn patterns from data.\n",
        "\n",
        "It's inspired by the structure of the human brain — where each neuron receives inputs, processes them, and passes on the result.\n",
        "\n",
        "\n",
        "## Structure of a Neural Network\n",
        "\n",
        "Input Layer → Hidden Layers → Output Layer\n",
        "\n",
        "Each layer consists of:\n",
        "\n",
        "- Neurons (Nodes) — like mini math units\n",
        "\n",
        "- Weights — numbers that control the importance of inputs\n",
        "\n",
        "- Biases — offset added to the weighted input\n",
        "\n",
        "- Activation Function — transforms the result into something non-linear"
      ],
      "metadata": {
        "id": "feMMsWhYNSxg"
      }
    },
    {
      "cell_type": "markdown",
      "source": [
        "| **Algorithm**    | **Full Form**                   | **Used For**                            | **Key Idea**                                   |\n",
        "| ---------------- | ------------------------------- | --------------------------------------- | ---------------------------------------------- |\n",
        "| **ANN**          | Artificial Neural Network       | Tabular data, basic problems            | Base model with input → hidden → output layers |\n",
        "| **DNN**          | Deep Neural Network             | Any complex task (vision, text, etc.)   | An ANN with many hidden layers                 |\n",
        "| **MLP**          | Multilayer Perceptron           | Classification & regression (tabular)   | Fully connected layers, no memory              |\n",
        "| **CNN**          | Convolutional Neural Network    | Image & video processing                | Uses filters (kernels) to detect patterns      |\n",
        "| **RNN**          | Recurrent Neural Network        | Time-series & sequences (text, signals) | Has memory; passes info through time           |\n",
        "| **LSTM**         | Long Short-Term Memory          | Long sequences (text, speech)           | Improved RNN with memory gates                 |\n",
        "| **Transformers** | —                               | NLP, vision, large language models      | Self-attention mechanism; parallel processing  |\n",
        "| **GANs**         | Generative Adversarial Networks | Image generation, fake data synthesis   | Generator vs. Discriminator competition        |\n"
      ],
      "metadata": {
        "id": "AD47lYS4O5Wd"
      }
    },
    {
      "cell_type": "markdown",
      "source": [
        "![Screenshot 2025-05-22 095431.png](data:image/png;base64,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)"
      ],
      "metadata": {
        "id": "WpeO9-xOO-L9"
      }
    },
    {
      "cell_type": "code",
      "execution_count": null,
      "metadata": {
        "id": "1jzGexLCDPyF"
      },
      "outputs": [],
      "source": []
    }
  ]
}