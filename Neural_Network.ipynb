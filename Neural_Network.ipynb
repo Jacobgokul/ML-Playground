{
  "nbformat": 4,
  "nbformat_minor": 0,
  "metadata": {
    "colab": {
      "provenance": [],
      "authorship_tag": "ABX9TyP4QRTdoI72hgNF+9N7i8Dv",
      "include_colab_link": true
    },
    "kernelspec": {
      "name": "python3",
      "display_name": "Python 3"
    },
    "language_info": {
      "name": "python"
    }
  },
  "cells": [
    {
      "cell_type": "markdown",
      "metadata": {
        "id": "view-in-github",
        "colab_type": "text"
      },
      "source": [
        "<a href=\"https://colab.research.google.com/github/Jacobgokul/ML-Playground/blob/main/Neural_Network.ipynb\" target=\"_parent\"><img src=\"https://colab.research.google.com/assets/colab-badge.svg\" alt=\"Open In Colab\"/></a>"
      ]
    },
    {
      "cell_type": "code",
      "execution_count": 2,
      "metadata": {
        "id": "7DEPc2WWv7VM"
      },
      "outputs": [],
      "source": [
        "import tensorflow as tf\n",
        "from tensorflow import keras\n",
        "from tensorflow.keras.models import Sequential\n",
        "from tensorflow.keras.layers import Dense, Flatten\n",
        "from tensorflow.keras.optimizers import Adam\n",
        "import matplotlib.pyplot as plt\n",
        "import numpy as np"
      ]
    },
    {
      "cell_type": "code",
      "source": [
        "# Load the MNIST dataset\n",
        "(x_train, y_train), (x_test, y_test) = keras.datasets.mnist.load_data()\n",
        "\n",
        "# Normalize pixel values (0-255 → 0-1)\n",
        "x_train, x_test = x_train / 255.0, x_test / 255.0\n",
        "\n",
        "# Display a sample image\n",
        "plt.imshow(x_train[2], cmap='gray')\n",
        "plt.title(f\"Label: {y_train[2]}\")\n",
        "plt.show()"
      ],
      "metadata": {
        "colab": {
          "base_uri": "https://localhost:8080/",
          "height": 452
        },
        "id": "xDpIe8a-wcmF",
        "outputId": "3b2894c9-a143-4438-9757-927d0cb1c80c"
      },
      "execution_count": 5,
      "outputs": [
        {
          "output_type": "display_data",
          "data": {
            "text/plain": [
              "<Figure size 640x480 with 1 Axes>"
            ],
            "image/png": "[encoded data removed]"
          },
          "metadata": {}
        }
      ]
    },
    {
      "cell_type": "code",
      "source": [
        "# Define the ANN model\n",
        "model = Sequential([\n",
        "    Flatten(input_shape=(28, 28)),  # Convert 2D image to 1D vector\n",
        "    Dense(128, activation='relu'),  # First hidden layer with 128 neurons\n",
        "    Dense(64, activation='relu'),   # Second hidden layer with 64 neurons\n",
        "    Dense(10, activation='softmax') # Output layer for 10 classes (0-9)\n",
        "])\n"
      ],
      "metadata": {
        "colab": {
          "base_uri": "https://localhost:8080/"
        },
        "id": "be7bhM_7wdmW",
        "outputId": "b497f61e-0556-4253-8f9e-7c204c20cd50"
      },
      "execution_count": 6,
      "outputs": [
        {
          "output_type": "stream",
          "name": "stderr",
          "text": [
            "/usr/local/lib/python3.11/dist-packages/keras/src/layers/reshaping/flatten.py:37: UserWarning: Do not pass an `input_shape`/`input_dim` argument to a layer. When using Sequential models, prefer using an `Input(shape)` object as the first layer in the model instead.\n",
            "  super().__init__(**kwargs)\n"
          ]
        }
      ]
    },
    {
      "cell_type": "markdown",
      "source": [
        "Sequential() Model\n",
        "Sequential means the model follows a step-by-step linear stack of layers.\n",
        "\n",
        "It is the simplest way to build a neural network.\n",
        "\n",
        "2️⃣ Flatten(input_shape=(28, 28))\n",
        "Converts each 28×28 image into a 1D array of 784 values.\n",
        "\n",
        "Neural networks process flat vectors, so we need this conversion.\n",
        "\n",
        "3️⃣ Dense(128, activation='relu') (First Hidden Layer)\n",
        "Dense means fully connected layer (each neuron connects to all previous neurons).\n",
        "\n",
        "128 neurons are used for learning features.\n",
        "\n",
        "ReLU (Rectified Linear Unit) is used as the activation function:\n",
        "\n",
        "Formula:\n",
        "𝑓\n",
        "(\n",
        "𝑥\n",
        ")\n",
        "=\n",
        "max\n",
        "⁡\n",
        "(\n",
        "0\n",
        ",\n",
        "𝑥\n",
        ")\n",
        "f(x)=max(0,x)\n",
        "\n",
        "Why ReLU?\n",
        "\n",
        "It helps overcome the vanishing gradient problem.\n",
        "\n",
        "It introduces non-linearity, allowing the model to learn complex patterns.\n",
        "\n",
        "4️⃣ Dense(64, activation='relu') (Second Hidden Layer)\n",
        "Another fully connected layer with 64 neurons.\n",
        "\n",
        "Again, ReLU activation helps the model learn complex features.\n",
        "\n",
        "5️⃣ Dense(10, activation='softmax') (Output Layer)\n",
        "The final layer has 10 neurons, corresponding to digits 0-9.\n",
        "\n",
        "Softmax activation is used:\n",
        "\n",
        "Converts raw output values into probabilities.\n",
        "\n",
        "Ensures the sum of all probabilities is 1.\n",
        "\n",
        "The highest probability indicates the predicted digit."
      ],
      "metadata": {
        "id": "2WITLzmtyMD_"
      }
    },
    {
      "cell_type": "code",
      "source": [
        "model.compile(optimizer=Adam(),\n",
        "              loss='sparse_categorical_crossentropy',\n",
        "              metrics=['accuracy'])"
      ],
      "metadata": {
        "id": "Is9MhTo3yN5l"
      },
      "execution_count": 7,
      "outputs": []
    },
    {
      "cell_type": "markdown",
      "source": [
        "Adam Optimizer:\n",
        "\n",
        "Adjusts weights efficiently during training.\n",
        "\n",
        "Uses a combination of momentum and adaptive learning rate for faster convergence.\n",
        "\n",
        "Loss Function (sparse_categorical_crossentropy):\n",
        "\n",
        "Used for multi-class classification when labels are integers (0-9).\n",
        "\n",
        "Why not categorical_crossentropy?\n",
        "\n",
        "sparse_categorical_crossentropy is used when labels are not one-hot encoded (e.g., y_train = [0, 1, 5, 9] instead of [1,0,0,...]).\n",
        "\n",
        "Metric (accuracy):\n",
        "\n",
        "Measures how many predictions are correct."
      ],
      "metadata": {
        "id": "8YKi6qzoyz25"
      }
    },
    {
      "cell_type": "code",
      "source": [
        "history = model.fit(x_train, y_train, epochs=10, validation_data=(x_test, y_test))"
      ],
      "metadata": {
        "colab": {
          "base_uri": "https://localhost:8080/"
        },
        "id": "CHfBiy62y0Vw",
        "outputId": "ddecff83-7fed-4971-b73f-0ded2621ad30"
      },
      "execution_count": 8,
      "outputs": [
        {
          "output_type": "stream",
          "name": "stdout",
          "text": [
            "Epoch 1/10\n",
            "\u001b[1m1875/1875\u001b[0m \u001b[32m━━━━━━━━━━━━━━━━━━━━\u001b[0m\u001b[37m\u001b[0m \u001b[1m12s\u001b[0m 5ms/step - accuracy: 0.8793 - loss: 0.4170 - val_accuracy: 0.9596 - val_loss: 0.1274\n",
            "Epoch 2/10\n",
            "\u001b[1m1875/1875\u001b[0m \u001b[32m━━━━━━━━━━━━━━━━━━━━\u001b[0m\u001b[37m\u001b[0m \u001b[1m20s\u001b[0m 5ms/step - accuracy: 0.9694 - loss: 0.1024 - val_accuracy: 0.9692 - val_loss: 0.1001\n",
            "Epoch 3/10\n",
            "\u001b[1m1875/1875\u001b[0m \u001b[32m━━━━━━━━━━━━━━━━━━━━\u001b[0m\u001b[37m\u001b[0m \u001b[1m10s\u001b[0m 5ms/step - accuracy: 0.9785 - loss: 0.0685 - val_accuracy: 0.9745 - val_loss: 0.0849\n",
            "Epoch 4/10\n",
            "\u001b[1m1875/1875\u001b[0m \u001b[32m━━━━━━━━━━━━━━━━━━━━\u001b[0m\u001b[37m\u001b[0m \u001b[1m19s\u001b[0m 5ms/step - accuracy: 0.9835 - loss: 0.0527 - val_accuracy: 0.9758 - val_loss: 0.0783\n",
            "Epoch 5/10\n",
            "\u001b[1m1875/1875\u001b[0m \u001b[32m━━━━━━━━━━━━━━━━━━━━\u001b[0m\u001b[37m\u001b[0m \u001b[1m10s\u001b[0m 5ms/step - accuracy: 0.9881 - loss: 0.0397 - val_accuracy: 0.9775 - val_loss: 0.0798\n",
            "Epoch 6/10\n",
            "\u001b[1m1875/1875\u001b[0m \u001b[32m━━━━━━━━━━━━━━━━━━━━\u001b[0m\u001b[37m\u001b[0m \u001b[1m10s\u001b[0m 5ms/step - accuracy: 0.9893 - loss: 0.0317 - val_accuracy: 0.9788 - val_loss: 0.0788\n",
            "Epoch 7/10\n",
            "\u001b[1m1875/1875\u001b[0m \u001b[32m━━━━━━━━━━━━━━━━━━━━\u001b[0m\u001b[37m\u001b[0m \u001b[1m10s\u001b[0m 5ms/step - accuracy: 0.9917 - loss: 0.0269 - val_accuracy: 0.9791 - val_loss: 0.0755\n",
            "Epoch 8/10\n",
            "\u001b[1m1875/1875\u001b[0m \u001b[32m━━━━━━━━━━━━━━━━━━━━\u001b[0m\u001b[37m\u001b[0m \u001b[1m10s\u001b[0m 5ms/step - accuracy: 0.9924 - loss: 0.0218 - val_accuracy: 0.9777 - val_loss: 0.0897\n",
            "Epoch 9/10\n",
            "\u001b[1m1875/1875\u001b[0m \u001b[32m━━━━━━━━━━━━━━━━━━━━\u001b[0m\u001b[37m\u001b[0m \u001b[1m12s\u001b[0m 6ms/step - accuracy: 0.9932 - loss: 0.0198 - val_accuracy: 0.9766 - val_loss: 0.0930\n",
            "Epoch 10/10\n",
            "\u001b[1m1875/1875\u001b[0m \u001b[32m━━━━━━━━━━━━━━━━━━━━\u001b[0m\u001b[37m\u001b[0m \u001b[1m11s\u001b[0m 6ms/step - accuracy: 0.9947 - loss: 0.0154 - val_accuracy: 0.9766 - val_loss: 0.0939\n"
          ]
        }
      ]
    },
    {
      "cell_type": "markdown",
      "source": [
        "epochs=10: The model goes through the entire dataset 10 times.\n",
        "\n",
        "Validation Data: Evaluates performance on unseen test data after each epoch.\n",
        "\n",
        "The model updates its weights after each epoch based on training loss.\n",
        "\n"
      ],
      "metadata": {
        "id": "8ebqIyDvzPuh"
      }
    },
    {
      "cell_type": "code",
      "source": [
        "test_loss, test_acc = model.evaluate(x_test, y_test)\n",
        "print(f\"Test Accuracy: {test_acc:.2f}\")\n"
      ],
      "metadata": {
        "colab": {
          "base_uri": "https://localhost:8080/"
        },
        "id": "sg-umv4lzQ_k",
        "outputId": "496e8b8e-ec42-432e-914c-c1bb0aff65c9"
      },
      "execution_count": 10,
      "outputs": [
        {
          "output_type": "stream",
          "name": "stdout",
          "text": [
            "\u001b[1m313/313\u001b[0m \u001b[32m━━━━━━━━━━━━━━━━━━━━\u001b[0m\u001b[37m\u001b[0m \u001b[1m1s\u001b[0m 2ms/step - accuracy: 0.9739 - loss: 0.1095\n",
            "Test Accuracy: 0.98\n"
          ]
        }
      ]
    },
    {
      "cell_type": "code",
      "source": [
        "predictions = model.predict(x_test)\n",
        "predicted_label = np.argmax(predictions[0])  # Get the most probable digit\n",
        "\n",
        "# Show the predicted and actual label\n",
        "plt.imshow(x_test[0], cmap='gray')\n",
        "plt.title(f\"Predicted: {predicted_label}, Actual: {y_test[0]}\")\n",
        "plt.show()\n"
      ],
      "metadata": {
        "colab": {
          "base_uri": "https://localhost:8080/",
          "height": 469
        },
        "id": "v1tBk9FUzfVp",
        "outputId": "fcba7084-f52b-4723-a2ea-7957b0657556"
      },
      "execution_count": 14,
      "outputs": [
        {
          "output_type": "stream",
          "name": "stdout",
          "text": [
            "\u001b[1m313/313\u001b[0m \u001b[32m━━━━━━━━━━━━━━━━━━━━\u001b[0m\u001b[37m\u001b[0m \u001b[1m1s\u001b[0m 3ms/step\n"
          ]
        },
        {
          "output_type": "display_data",
          "data": {
            "text/plain": [
              "<Figure size 640x480 with 1 Axes>"
            ],
            "image/png": "[encoded data removed]"
          },
          "metadata": {}
        }
      ]
    },
    {
      "cell_type": "code",
      "source": [],
      "metadata": {
        "id": "B8PJZPINzjDT"
      },
      "execution_count": null,
      "outputs": []
    }
  ]
}